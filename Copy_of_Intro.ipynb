{
  "nbformat": 4,
  "nbformat_minor": 0,
  "metadata": {
    "colab": {
      "name": "Copy of Intro.ipynb",
      "provenance": [],
      "authorship_tag": "ABX9TyMZraVwKoiqOWvmUNSh4Akj",
      "include_colab_link": true
    },
    "kernelspec": {
      "name": "python3",
      "display_name": "Python 3"
    },
    "language_info": {
      "name": "python"
    }
  },
  "cells": [
    {
      "cell_type": "markdown",
      "metadata": {
        "id": "view-in-github",
        "colab_type": "text"
      },
      "source": [
        "<a href=\"https://colab.research.google.com/github/FaheemKazi/3Repo/blob/master/Copy_of_Intro.ipynb\" target=\"_parent\"><img src=\"https://colab.research.google.com/assets/colab-badge.svg\" alt=\"Open In Colab\"/></a>"
      ]
    },
    {
      "cell_type": "code",
      "metadata": {
        "id": "CyZASDaOxgpP",
        "colab": {
          "base_uri": "https://localhost:8080/"
        },
        "outputId": "1c852431-477b-4c23-fd85-d6ffd039c004"
      },
      "source": [
        "print(\"Hello world\")\n"
      ],
      "execution_count": null,
      "outputs": [
        {
          "output_type": "stream",
          "name": "stdout",
          "text": [
            "Hello world\n"
          ]
        }
      ]
    },
    {
      "cell_type": "markdown",
      "metadata": {
        "id": "Q9e02I_v6y-d"
      },
      "source": [
        "# New Section"
      ]
    }
  ]
}